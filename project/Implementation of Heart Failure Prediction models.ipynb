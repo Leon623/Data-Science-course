{
 "cells": [
  {
   "cell_type": "markdown",
   "id": "3e4f74cc-7061-4a6b-8d75-d0f2dfc9ee05",
   "metadata": {},
   "source": [
    "# Učitavanje knjižnica i podataka"
   ]
  },
  {
   "cell_type": "code",
   "execution_count": 1,
   "id": "d8870bfd-9e11-4b2d-8760-60559890bdc4",
   "metadata": {},
   "outputs": [],
   "source": [
    "import numpy as np\n",
    "import pandas as pd\n",
    "import seaborn as sns\n",
    "import itertools as it\n",
    "import matplotlib.pyplot as plt\n",
    "from matplotlib.pyplot import figure\n",
    "from matplotlib.pyplot import *\n",
    "from sklearn.model_selection import train_test_split\n",
    "from sklearn.metrics import precision_recall_fscore_support\n",
    "from sklearn.metrics import confusion_matrix\n",
    "from sklearn.ensemble import RandomForestClassifier, ExtraTreesClassifier\n",
    "from sklearn.metrics import accuracy_score, confusion_matrix\n",
    "from sklearn.model_selection import train_test_split\n",
    "from sklearn.preprocessing import OneHotEncoder, LabelEncoder, StandardScaler\n",
    "from sklearn.model_selection import cross_val_score\n",
    "from sklearn.feature_selection import SelectKBest, mutual_info_classif\n",
    "from sklearn.linear_model import LogisticRegression\n",
    "from sklearn.naive_bayes import GaussianNB\n",
    "from sklearn.svm import SVC\n",
    "from sklearn.tree import DecisionTreeClassifier"
   ]
  },
  {
   "cell_type": "code",
   "execution_count": 2,
   "id": "0a8508f2-08f6-4e39-8b92-a6cdcc8f7830",
   "metadata": {},
   "outputs": [],
   "source": [
    "X = pd.read_csv(\"heart.csv\")"
   ]
  },
  {
   "cell_type": "markdown",
   "id": "a3ef1323-95da-4773-8e51-cb94dd7bebfc",
   "metadata": {},
   "source": [
    "# O istraživanju"
   ]
  },
  {
   "cell_type": "markdown",
   "id": "084351a8-30d8-43d1-b19f-2f89a6c676ca",
   "metadata": {},
   "source": [
    "Kao vrstu istraživanja prema svrsi ovo istraživanje bih svrstao u <b>primijenjeno istraživanje</b> zato što koristimo teoretska znanja iz medicine kako bismo stvorili praktično znanstveno znanje o zatajenju srca.<br><br>\n",
    "Prema izvoru informacija ovo bih istraživanje svrstao u <b>sekundarno istraživanje</b> zato što sve informacije i podatci su preuzeti iz prijašnjih medicinskih skupva podataka u svrhu poboljšanja modela strojnog učenja. Odnosno istraživač nije prikupio podatke iz prve ruke.<br><br>\n",
    "\n",
    "Kada govorimo o vremenskoj provedbi smatram da ovo istraživanje pripada <b>studiji presjeka, odnosno sinkronom istraživanju</b>. To je zato što su opažanja nad pojedincima uzeta u određenom trenutku. Nije se pratilo stanje pojedinca kroz godine da bi se zaključila vjerojatnost zatajenja srca nego su za svakog pojedinca samo jedan podatak u za jedan trenutak.<br><br>\n",
    "\n",
    "Prema načinu na koji su podatci prikupljeni rekao bih da ovo istraživanje pripada <b>dokumentarnom istraživanju</b> zbog toga što se koriste informacije iz postojećih medicinskih izvora o zatajenju srca.<br><br>\n",
    "\n",
    "Vrsta podataka korištena u ovom članku nam sugerira da se radi o <b>kvantitativnom istraživanju</b> jer koristimo mjerljive varijable ( kao što su npr. razina kolesterola, godine, otkucaji srca ) kako bismo predvidjeli zatajenje srca. Ne koriste se razgovorne ili bilokakve druge metode koje uključuju sudionikovo mišljenje kao određenu varijablu, već su sve varijable dobivene nekim oblikom mjerenja.<br><br>\n",
    "\n",
    "S obzirom na to da u eksperimentu ne kontroliramo nikakve varijable, za prikupljanje podataka o pacijentu dovoljno je bilo odraditi mjerenja nad pacjentom tijekom tjelovježbe te nismo mogli manipulirati varijablama kako bismo otkrili njihovu uzročo-posljedičnu vezu sa zatajenjem srca, već smo dobili određene očitane vrijednosti s kojima smo proveli istraživanje. Zbog svega toga smatram da ovo israživanje pripada promatračkom odnosno <b>opservacijskom istraživanju</b>. <br><br>\n",
    "\n",
    "Prema dubini ovo istraživanje možemo svrstati u <b>istraživačko istraživanje</b> zato što problem zatajenja srca još nije dovoljno dobro shvaćen i istražen i neznamo točno kako kada i kako će nastati te što sve ima utjecaj na njega. Istraživanje se oslanja na prikupljene podatke kako bi se mogao donijeti zaključak hoće li pacijent dobiti srčano zatajenje ili ne.<br><br>\n",
    "\n",
    "Konačno promatramo li istraživanje s obzirom na vrstu zaključka rekao bih da ovo istraživanje pripada <b>hipotetičko-deduktivnom istraživanju</b> zato što smo promatranjem stvarnosti postavili hipotezu što sve utječe na zastoj srca te smo donijeli zaključak koji ćemo kroz iskustvo odbaciti ili prihvatiti.<br><br>\n",
    "\n",
    "Podatci za članak su prikupljeni <b>dokumentarnim istraživanjem</b> zato što su preuzeti iz web-baza medicinskih skupova podataka objavljenih na internetu. Konkretno podatci su uzeti sa javno dostupne Kaggle web-stranice.<br><br>\n",
    "\n",
    "Podatci su prikupljeni na etički način jer su prikupljeni ravno iz medicinskih ustanova koje su osigurale fizičku i psihičku zaštitu ispitanika koji su dobroboljno pristali na sudjelovanje pritom primeći novčanu naknadu te su upoznati sa prirodom istraživanja. Nnjihov indentitet je ostao anoniman jer ne postoji niti jedan podatak u bazi s kojim bi smo mogli povezati određenog pacjenta. S obzirom da se radi o profesionalnom medicinskom osoblju možemo predpostaviti da su istraživači djelovali u skladu sa zakonom, nisu namjestili rezultate ( zato što od toga ionako ne bi imali nikakvu korist jer je cilj ionako nije monetariziran ) te su ozbiljno shvatili osobnu sigurnost prilikom prikupljanja podataka.\n"
   ]
  },
  {
   "cell_type": "markdown",
   "id": "3dc51dff",
   "metadata": {},
   "source": [
    "# Augmentacija podataka"
   ]
  },
  {
   "cell_type": "markdown",
   "id": "6bfec702",
   "metadata": {},
   "source": [
    "Provodimo blagu augmentaciju nad podatcima radi povećanja skupa podataka kako bi lakše bilo trenirati modele strojnog učenja. Augmentaciju provodimo na način da uzimamo postojeće podatke te blago alteriramo vrjednosti značajki: Age, RestingBP te Cholesterol."
   ]
  },
  {
   "cell_type": "code",
   "execution_count": 3,
   "id": "120621ea",
   "metadata": {},
   "outputs": [
    {
     "name": "stdout",
     "output_type": "stream",
     "text": [
      "     Age Sex ChestPainType  RestingBP  Cholesterol  FastingBS RestingECG  \\\n",
      "0     40   M           ATA        140          289          0     Normal   \n",
      "1     49   F           NAP        160          180          0     Normal   \n",
      "2     37   M           ATA        130          283          0         ST   \n",
      "3     48   F           ASY        138          214          0     Normal   \n",
      "4     54   M           NAP        150          195          0     Normal   \n",
      "..   ...  ..           ...        ...          ...        ...        ...   \n",
      "913   45   M            TA        110          264          0     Normal   \n",
      "914   68   M           ASY        144          193          1     Normal   \n",
      "915   57   M           ASY        130          131          0     Normal   \n",
      "916   57   F           ATA        130          236          0        LVH   \n",
      "917   38   M           NAP        138          175          0     Normal   \n",
      "\n",
      "     MaxHR ExerciseAngina  Oldpeak ST_Slope  HeartDisease  \n",
      "0      172              N      0.0       Up             0  \n",
      "1      156              N      1.0     Flat             1  \n",
      "2       98              N      0.0       Up             0  \n",
      "3      108              Y      1.5     Flat             1  \n",
      "4      122              N      0.0       Up             0  \n",
      "..     ...            ...      ...      ...           ...  \n",
      "913    132              N      1.2     Flat             1  \n",
      "914    141              N      3.4     Flat             1  \n",
      "915    115              Y      1.2     Flat             1  \n",
      "916    174              N      0.0     Flat             1  \n",
      "917    173              N      0.0       Up             0  \n",
      "\n",
      "[918 rows x 12 columns]\n",
      "     Age Sex ChestPainType  RestingBP  Cholesterol  FastingBS RestingECG  \\\n",
      "0     40   M           ATA        140          287          0     Normal   \n",
      "1     49   F           NAP        156          180          0     Normal   \n",
      "2     36   M           ATA        133          285          0         ST   \n",
      "3     48   F           ASY        137          205          0     Normal   \n",
      "4     56   M           NAP        153          194          0     Normal   \n",
      "..   ...  ..           ...        ...          ...        ...        ...   \n",
      "913   45   M            TA        107          253          0     Normal   \n",
      "914   64   M           ASY        146          188          1     Normal   \n",
      "915   59   M           ASY        133          130          0     Normal   \n",
      "916   57   F           ATA        130          241          0        LVH   \n",
      "917   37   M           NAP        143          179          0     Normal   \n",
      "\n",
      "     MaxHR ExerciseAngina  Oldpeak ST_Slope  HeartDisease  \n",
      "0      172              N      0.0       Up             0  \n",
      "1      156              N      1.0     Flat             1  \n",
      "2       98              N      0.0       Up             0  \n",
      "3      108              Y      1.5     Flat             1  \n",
      "4      122              N      0.0       Up             0  \n",
      "..     ...            ...      ...      ...           ...  \n",
      "913    132              N      1.2     Flat             1  \n",
      "914    141              N      3.4     Flat             1  \n",
      "915    115              Y      1.2     Flat             1  \n",
      "916    174              N      0.0     Flat             1  \n",
      "917    173              N      0.0       Up             0  \n",
      "\n",
      "[918 rows x 12 columns]\n"
     ]
    }
   ],
   "source": [
    "import random\n",
    "import math\n",
    "import warnings\n",
    "warnings.filterwarnings('ignore')\n",
    "\n",
    "def add_random(x,col,integer=True):\n",
    "    \n",
    "    for i in range(len(x.values)):\n",
    "        \n",
    "        \n",
    "        coin = random.randint(1, 2)\n",
    "        sign = 1\n",
    "\n",
    "        if(coin==1):\n",
    "\n",
    "            sign*=-1\n",
    "\n",
    "\n",
    "        rand_add = random.uniform(0, 1)/20\n",
    "        result = x[i]+rand_add*x[i]*sign \n",
    "\n",
    "        if(integer):\n",
    "\n",
    "            result = int(result)\n",
    "            \n",
    "        M[col].iloc[i] = result\n",
    "\n",
    "        #print(result)\n",
    "        #print(x[i])\n",
    "    \n",
    "\n",
    "M = X.copy()\n",
    "df = pd.DataFrame()\n",
    "#print(M)\n",
    "for i, j in M.iterrows():\n",
    "    #print(j[\"Age\"])\n",
    "    df.append(j)\n",
    "    #print()\n",
    "print(M)\n",
    "add_random(M[\"Age\"],col=\"Age\") \n",
    "add_random(M[\"RestingBP\"],col=\"RestingBP\")\n",
    "add_random(M[\"Cholesterol\"],col=\"Cholesterol\")\n",
    "print(M)"
   ]
  },
  {
   "cell_type": "markdown",
   "id": "e6c9d21a-7f78-443a-9b62-72be4bf713c9",
   "metadata": {},
   "source": [
    "Prvo radimo podjelu na test za treniranje i test za ucenje kako bismo augmentirane podatke dodali skupu za ucenje da ne unosimo nikakvu pristranost u skup za testiranje."
   ]
  },
  {
   "cell_type": "code",
   "execution_count": 4,
   "id": "f81426d7-636d-4b9b-8c03-4dcafa745f33",
   "metadata": {},
   "outputs": [],
   "source": [
    "y = X.loc[:, 'HeartDisease']\n",
    "X, X_test, y_train, y_test = train_test_split(X, y, test_size=0.25)"
   ]
  },
  {
   "cell_type": "markdown",
   "id": "55dd4997-a1df-42e9-bb6d-49f27a15523c",
   "metadata": {},
   "source": [
    "Dodajemo augmentirane podatke skupu za učenje."
   ]
  },
  {
   "cell_type": "code",
   "execution_count": 5,
   "id": "6a24b322",
   "metadata": {},
   "outputs": [
    {
     "name": "stdout",
     "output_type": "stream",
     "text": [
      "593    1\n",
      "900    1\n",
      "529    1\n",
      "708    1\n",
      "364    0\n",
      "      ..\n",
      "913    1\n",
      "914    1\n",
      "915    1\n",
      "916    1\n",
      "917    0\n",
      "Name: HeartDisease, Length: 1606, dtype: int64\n"
     ]
    }
   ],
   "source": [
    "X = X.append(M)\n",
    "y_train = y_train.append(M['HeartDisease'])\n",
    "print(y_train)"
   ]
  },
  {
   "cell_type": "markdown",
   "id": "7a983d38-f8b8-49f2-985a-a884c77d0348",
   "metadata": {},
   "source": [
    "# Eksploratorna analiza podataka"
   ]
  },
  {
   "cell_type": "markdown",
   "id": "c28f1bdc-c6ff-4058-884a-2c75edd0bfbe",
   "metadata": {},
   "source": [
    "Prikaz prvih nekoliko podataka iz baze"
   ]
  },
  {
   "cell_type": "code",
   "execution_count": 6,
   "id": "f713e50e-fc5c-4ab6-a3e6-0e36d7a51b4c",
   "metadata": {},
   "outputs": [
    {
     "data": {
      "text/html": [
       "<div>\n",
       "<style scoped>\n",
       "    .dataframe tbody tr th:only-of-type {\n",
       "        vertical-align: middle;\n",
       "    }\n",
       "\n",
       "    .dataframe tbody tr th {\n",
       "        vertical-align: top;\n",
       "    }\n",
       "\n",
       "    .dataframe thead th {\n",
       "        text-align: right;\n",
       "    }\n",
       "</style>\n",
       "<table border=\"1\" class=\"dataframe\">\n",
       "  <thead>\n",
       "    <tr style=\"text-align: right;\">\n",
       "      <th></th>\n",
       "      <th>Age</th>\n",
       "      <th>Sex</th>\n",
       "      <th>ChestPainType</th>\n",
       "      <th>RestingBP</th>\n",
       "      <th>Cholesterol</th>\n",
       "      <th>FastingBS</th>\n",
       "      <th>RestingECG</th>\n",
       "      <th>MaxHR</th>\n",
       "      <th>ExerciseAngina</th>\n",
       "      <th>Oldpeak</th>\n",
       "      <th>ST_Slope</th>\n",
       "      <th>HeartDisease</th>\n",
       "    </tr>\n",
       "  </thead>\n",
       "  <tbody>\n",
       "    <tr>\n",
       "      <th>593</th>\n",
       "      <td>64</td>\n",
       "      <td>M</td>\n",
       "      <td>ASY</td>\n",
       "      <td>130</td>\n",
       "      <td>258</td>\n",
       "      <td>1</td>\n",
       "      <td>LVH</td>\n",
       "      <td>130</td>\n",
       "      <td>N</td>\n",
       "      <td>0.0</td>\n",
       "      <td>Flat</td>\n",
       "      <td>1</td>\n",
       "    </tr>\n",
       "    <tr>\n",
       "      <th>900</th>\n",
       "      <td>58</td>\n",
       "      <td>M</td>\n",
       "      <td>ASY</td>\n",
       "      <td>114</td>\n",
       "      <td>318</td>\n",
       "      <td>0</td>\n",
       "      <td>ST</td>\n",
       "      <td>140</td>\n",
       "      <td>N</td>\n",
       "      <td>4.4</td>\n",
       "      <td>Down</td>\n",
       "      <td>1</td>\n",
       "    </tr>\n",
       "    <tr>\n",
       "      <th>529</th>\n",
       "      <td>72</td>\n",
       "      <td>M</td>\n",
       "      <td>ASY</td>\n",
       "      <td>143</td>\n",
       "      <td>211</td>\n",
       "      <td>0</td>\n",
       "      <td>Normal</td>\n",
       "      <td>109</td>\n",
       "      <td>Y</td>\n",
       "      <td>1.4</td>\n",
       "      <td>Flat</td>\n",
       "      <td>1</td>\n",
       "    </tr>\n",
       "    <tr>\n",
       "      <th>708</th>\n",
       "      <td>54</td>\n",
       "      <td>M</td>\n",
       "      <td>ASY</td>\n",
       "      <td>110</td>\n",
       "      <td>206</td>\n",
       "      <td>0</td>\n",
       "      <td>LVH</td>\n",
       "      <td>108</td>\n",
       "      <td>Y</td>\n",
       "      <td>0.0</td>\n",
       "      <td>Flat</td>\n",
       "      <td>1</td>\n",
       "    </tr>\n",
       "    <tr>\n",
       "      <th>364</th>\n",
       "      <td>56</td>\n",
       "      <td>M</td>\n",
       "      <td>NAP</td>\n",
       "      <td>120</td>\n",
       "      <td>0</td>\n",
       "      <td>0</td>\n",
       "      <td>Normal</td>\n",
       "      <td>97</td>\n",
       "      <td>N</td>\n",
       "      <td>0.0</td>\n",
       "      <td>Flat</td>\n",
       "      <td>0</td>\n",
       "    </tr>\n",
       "  </tbody>\n",
       "</table>\n",
       "</div>"
      ],
      "text/plain": [
       "     Age Sex ChestPainType  RestingBP  Cholesterol  FastingBS RestingECG  \\\n",
       "593   64   M           ASY        130          258          1        LVH   \n",
       "900   58   M           ASY        114          318          0         ST   \n",
       "529   72   M           ASY        143          211          0     Normal   \n",
       "708   54   M           ASY        110          206          0        LVH   \n",
       "364   56   M           NAP        120            0          0     Normal   \n",
       "\n",
       "     MaxHR ExerciseAngina  Oldpeak ST_Slope  HeartDisease  \n",
       "593    130              N      0.0     Flat             1  \n",
       "900    140              N      4.4     Down             1  \n",
       "529    109              Y      1.4     Flat             1  \n",
       "708    108              Y      0.0     Flat             1  \n",
       "364     97              N      0.0     Flat             0  "
      ]
     },
     "execution_count": 6,
     "metadata": {},
     "output_type": "execute_result"
    }
   ],
   "source": [
    "X.head()"
   ]
  },
  {
   "cell_type": "markdown",
   "id": "9cc2180c-c8fc-4966-87a4-ff27bcb70cc8",
   "metadata": {},
   "source": [
    "Pojašnjenja značajki:\n",
    " - Age - starost pacjenta u godinama  \n",
    " - Sex - spol pacjenta ( M - muško, Ž - žensko)\n",
    " - ChestPainType - tip boli u prsima\n",
    " - RestingBP - krvni tlak izmjeren tjekom mirovanja pacjenta u mmHg\n",
    " - Cholesterol - razina kolesterola u mg/dL\n",
    " - FastingBS - nivo šećera kod pacjenta izražen kao kategorička varijabla gdje 0 označava ispod 120mg/dl, a 1 iznad 120mg/dl\n",
    " - RestingECG - rezultat ECG mjerenja prikazan kao kategorička varijabla od 0-2 što označava značajnost boli\n",
    " - MaxHR - maksimalna vrjednost broja otkucaja srca u minuti\n",
    " - ExerciseAngina - parametar ( 0 ili 1 ) koji određuje je li tjelovježba inducirala anginu kod pacjenta\n",
    " - Oldpeak - realni broj ( između 0 i 6.2 ) koji određuje status pacjentove depresije \n",
    " - ST_Slope - kondicija pacjenta tijekom izvođenja tjelovježbe ( Up - rastuca, Flat - konstantna, Down - padajuca)\n",
    " - HeartDisease - ciljna varijabla - vjerojatnost da će pacjent dobiti zatajenje srca ( 0 - pretpostavlja se da nema vjerojatnosti za zatajenje srca, 1 - jaka vjerojatnost zatajenja srca kod pacjenta)"
   ]
  },
  {
   "cell_type": "code",
   "execution_count": 7,
   "id": "5e98edca-b395-4889-a78d-858d93b28ae9",
   "metadata": {},
   "outputs": [
    {
     "data": {
      "text/html": [
       "<div>\n",
       "<style scoped>\n",
       "    .dataframe tbody tr th:only-of-type {\n",
       "        vertical-align: middle;\n",
       "    }\n",
       "\n",
       "    .dataframe tbody tr th {\n",
       "        vertical-align: top;\n",
       "    }\n",
       "\n",
       "    .dataframe thead th {\n",
       "        text-align: right;\n",
       "    }\n",
       "</style>\n",
       "<table border=\"1\" class=\"dataframe\">\n",
       "  <thead>\n",
       "    <tr style=\"text-align: right;\">\n",
       "      <th></th>\n",
       "      <th>Age</th>\n",
       "      <th>RestingBP</th>\n",
       "      <th>Cholesterol</th>\n",
       "      <th>FastingBS</th>\n",
       "      <th>MaxHR</th>\n",
       "      <th>Oldpeak</th>\n",
       "      <th>HeartDisease</th>\n",
       "    </tr>\n",
       "  </thead>\n",
       "  <tbody>\n",
       "    <tr>\n",
       "      <th>count</th>\n",
       "      <td>1606.000000</td>\n",
       "      <td>1606.000000</td>\n",
       "      <td>1606.000000</td>\n",
       "      <td>1606.000000</td>\n",
       "      <td>1606.000000</td>\n",
       "      <td>1606.000000</td>\n",
       "      <td>1606.000000</td>\n",
       "    </tr>\n",
       "    <tr>\n",
       "      <th>mean</th>\n",
       "      <td>53.164384</td>\n",
       "      <td>131.840598</td>\n",
       "      <td>198.665629</td>\n",
       "      <td>0.234122</td>\n",
       "      <td>136.923412</td>\n",
       "      <td>0.894645</td>\n",
       "      <td>0.554795</td>\n",
       "    </tr>\n",
       "    <tr>\n",
       "      <th>std</th>\n",
       "      <td>9.483043</td>\n",
       "      <td>18.512220</td>\n",
       "      <td>109.261370</td>\n",
       "      <td>0.423581</td>\n",
       "      <td>25.422996</td>\n",
       "      <td>1.062881</td>\n",
       "      <td>0.497143</td>\n",
       "    </tr>\n",
       "    <tr>\n",
       "      <th>min</th>\n",
       "      <td>28.000000</td>\n",
       "      <td>0.000000</td>\n",
       "      <td>0.000000</td>\n",
       "      <td>0.000000</td>\n",
       "      <td>60.000000</td>\n",
       "      <td>-2.600000</td>\n",
       "      <td>0.000000</td>\n",
       "    </tr>\n",
       "    <tr>\n",
       "      <th>25%</th>\n",
       "      <td>47.000000</td>\n",
       "      <td>120.000000</td>\n",
       "      <td>173.000000</td>\n",
       "      <td>0.000000</td>\n",
       "      <td>120.000000</td>\n",
       "      <td>0.000000</td>\n",
       "      <td>0.000000</td>\n",
       "    </tr>\n",
       "    <tr>\n",
       "      <th>50%</th>\n",
       "      <td>54.000000</td>\n",
       "      <td>130.000000</td>\n",
       "      <td>223.000000</td>\n",
       "      <td>0.000000</td>\n",
       "      <td>138.000000</td>\n",
       "      <td>0.600000</td>\n",
       "      <td>1.000000</td>\n",
       "    </tr>\n",
       "    <tr>\n",
       "      <th>75%</th>\n",
       "      <td>60.000000</td>\n",
       "      <td>141.000000</td>\n",
       "      <td>265.750000</td>\n",
       "      <td>0.000000</td>\n",
       "      <td>156.000000</td>\n",
       "      <td>1.500000</td>\n",
       "      <td>1.000000</td>\n",
       "    </tr>\n",
       "    <tr>\n",
       "      <th>max</th>\n",
       "      <td>79.000000</td>\n",
       "      <td>208.000000</td>\n",
       "      <td>603.000000</td>\n",
       "      <td>1.000000</td>\n",
       "      <td>202.000000</td>\n",
       "      <td>6.200000</td>\n",
       "      <td>1.000000</td>\n",
       "    </tr>\n",
       "  </tbody>\n",
       "</table>\n",
       "</div>"
      ],
      "text/plain": [
       "               Age    RestingBP  Cholesterol    FastingBS        MaxHR  \\\n",
       "count  1606.000000  1606.000000  1606.000000  1606.000000  1606.000000   \n",
       "mean     53.164384   131.840598   198.665629     0.234122   136.923412   \n",
       "std       9.483043    18.512220   109.261370     0.423581    25.422996   \n",
       "min      28.000000     0.000000     0.000000     0.000000    60.000000   \n",
       "25%      47.000000   120.000000   173.000000     0.000000   120.000000   \n",
       "50%      54.000000   130.000000   223.000000     0.000000   138.000000   \n",
       "75%      60.000000   141.000000   265.750000     0.000000   156.000000   \n",
       "max      79.000000   208.000000   603.000000     1.000000   202.000000   \n",
       "\n",
       "           Oldpeak  HeartDisease  \n",
       "count  1606.000000   1606.000000  \n",
       "mean      0.894645      0.554795  \n",
       "std       1.062881      0.497143  \n",
       "min      -2.600000      0.000000  \n",
       "25%       0.000000      0.000000  \n",
       "50%       0.600000      1.000000  \n",
       "75%       1.500000      1.000000  \n",
       "max       6.200000      1.000000  "
      ]
     },
     "execution_count": 7,
     "metadata": {},
     "output_type": "execute_result"
    }
   ],
   "source": [
    "X.describe()"
   ]
  },
  {
   "cell_type": "markdown",
   "id": "dde52cfe-0814-446a-b751-011c81b207c4",
   "metadata": {},
   "source": [
    "Pregled formata u kojem su podatci zapisani"
   ]
  },
  {
   "cell_type": "code",
   "execution_count": 8,
   "id": "766b526d-b749-4c15-863f-b5ad064155ba",
   "metadata": {},
   "outputs": [
    {
     "data": {
      "text/plain": [
       "Age                 int64\n",
       "Sex                object\n",
       "ChestPainType      object\n",
       "RestingBP           int64\n",
       "Cholesterol         int64\n",
       "FastingBS           int64\n",
       "RestingECG         object\n",
       "MaxHR               int64\n",
       "ExerciseAngina     object\n",
       "Oldpeak           float64\n",
       "ST_Slope           object\n",
       "HeartDisease        int64\n",
       "dtype: object"
      ]
     },
     "execution_count": 8,
     "metadata": {},
     "output_type": "execute_result"
    }
   ],
   "source": [
    "X.dtypes"
   ]
  },
  {
   "cell_type": "code",
   "execution_count": 9,
   "id": "74e88313-1434-4c47-a448-dc42e9e6b648",
   "metadata": {},
   "outputs": [
    {
     "data": {
      "text/plain": [
       "(array([  3.,   9., 650., 203., 418., 207.,  81.,  32.,   1.,   2.]),\n",
       " array([-2.6 , -1.72, -0.84,  0.04,  0.92,  1.8 ,  2.68,  3.56,  4.44,\n",
       "         5.32,  6.2 ]),\n",
       " <BarContainer object of 10 artists>)"
      ]
     },
     "execution_count": 9,
     "metadata": {},
     "output_type": "execute_result"
    },
    {
     "data": {
      "image/png": "[encoded data removed]",
      "text/plain": [
       "<Figure size 1080x720 with 5 Axes>"
      ]
     },
     "metadata": {
      "needs_background": "light"
     },
     "output_type": "display_data"
    }
   ],
   "source": [
    "fig = plt.figure(figsize=(15, 10))\n",
    "subplot(2,3,1)\n",
    "title(\"Age\")\n",
    "plt.hist(X[\"Age\"])\n",
    "subplot(2,3,2)\n",
    "title(\"RestingBP\")\n",
    "plt.hist(X[\"RestingBP\"])\n",
    "subplot(2,3,3)\n",
    "title(\"Cholesterol\")\n",
    "plt.hist(X[\"Cholesterol\"])\n",
    "subplot(2,3,4)\n",
    "title(\"MaxHR\")\n",
    "plt.hist(X[\"MaxHR\"])\n",
    "subplot(2,3,5)\n",
    "title(\"Oldpeak\")\n",
    "plt.hist(X[\"Oldpeak\"])"
   ]
  },
  {
   "cell_type": "markdown",
   "id": "f13a4b9d-b210-4cb0-8edd-674c85e49a2a",
   "metadata": {},
   "source": [
    "Vidimo iz prikazanih grafova da se većina varijabli ravna po nekoj distribuciji sličnoj normalnoj distribuiji što nam je jako dobra stvar jer većina testova zahtjeva ravnanje distribucije podataka po normalnoj distribuciji\n",
    "ili nekoj distribuciji sličnoj normalnoj.\n",
    "Vidimo da Odlpeak i Cholesterol odstupaju od normalne distribucije i kod njih očekujemo da ćemo imati dosta \"outliera\" što ćemo provjeriti daljnom analizom.<br><br>\n",
    "Ovi hisgogrami će nam također pomoći kada ćemo trebati raditi \"bucketing\" podataka da bismo znali odrediti \"bucket\" kategorije."
   ]
  },
  {
   "cell_type": "code",
   "execution_count": 10,
   "id": "1d39044e-6ff9-4ebb-8d25-401e73106559",
   "metadata": {},
   "outputs": [
    {
     "data": {
      "text/plain": [
       "{'whiskers': [<matplotlib.lines.Line2D at 0x20ed8cdf070>,\n",
       "  <matplotlib.lines.Line2D at 0x20ed8cdf340>],\n",
       " 'caps': [<matplotlib.lines.Line2D at 0x20ed8cdf610>,\n",
       "  <matplotlib.lines.Line2D at 0x20ed8cdf8e0>],\n",
       " 'boxes': [<matplotlib.lines.Line2D at 0x20ed8cbdbe0>],\n",
       " 'medians': [<matplotlib.lines.Line2D at 0x20ed8cdfbb0>],\n",
       " 'fliers': [<matplotlib.lines.Line2D at 0x20ed8cdfe80>],\n",
       " 'means': []}"
      ]
     },
     "execution_count": 10,
     "metadata": {},
     "output_type": "execute_result"
    },
    {
     "data": {
      "image/png": "[encoded data removed]",
      "text/plain": [
       "<Figure size 1080x720 with 5 Axes>"
      ]
     },
     "metadata": {
      "needs_background": "light"
     },
     "output_type": "display_data"
    }
   ],
   "source": [
    "fig = plt.figure(figsize=(15, 10))\n",
    "subplot(2,3,1)\n",
    "title(\"Age\")\n",
    "plt.boxplot(X[\"Age\"])\n",
    "subplot(2,3,2)\n",
    "title(\"RestingBP\")\n",
    "plt.boxplot(X[\"RestingBP\"])\n",
    "subplot(2,3,3)\n",
    "title(\"Cholesterol\")\n",
    "plt.boxplot(X[\"Cholesterol\"])\n",
    "subplot(2,3,4)\n",
    "title(\"MaxHR\")\n",
    "plt.boxplot(X[\"MaxHR\"])\n",
    "subplot(2,3,5)\n",
    "title(\"Oldpeak\")\n",
    "plt.boxplot(X[\"Oldpeak\"])"
   ]
  },
  {
   "cell_type": "markdown",
   "id": "c4e3aee0-c01b-4c71-9e4f-7fe8b11e3659",
   "metadata": {},
   "source": [
    "Boxplotovi su nam odlična vizualizacija ukoliko želimo vidjeti imaju li naši podatci \"outliere\". Iz prikazanih dijagrama možemo vidjeti da RestingBP, Cholesterol i Oldpeak imaju poprilično veliki broj outliera što nam pomaže kada ćemo kasnije odlučivati hoćemo li ih zadržati ili napraviti neku transformaciju."
   ]
  },
  {
   "cell_type": "code",
   "execution_count": 11,
   "id": "d166574c-9c28-46f5-8c89-62a3421a7d2c",
   "metadata": {},
   "outputs": [
    {
     "data": {
      "image/png": "[encoded data removed]",
      "text/plain": [
       "<Figure size 1440x720 with 2 Axes>"
      ]
     },
     "metadata": {},
     "output_type": "display_data"
    }
   ],
   "source": [
    "Z = X[[\"Age\",\"RestingBP\",\"Cholesterol\",\"MaxHR\",\"Oldpeak\"]]\n",
    "Z.corr()\n",
    "sns.set(rc={'figure.figsize':(20,10)})\n",
    "sns.heatmap(Z.corr(), annot=True, fmt=\".2f\", cmap=\"YlGnBu\", linewidths=.5)\n",
    "plt.show()"
   ]
  },
  {
   "cell_type": "markdown",
   "id": "fef8a736-f390-4745-9dee-ccae927cfd5a",
   "metadata": {},
   "source": [
    "Korelacijski dijagram nam je dobar ukoliko želimo vidjeti postoji li neka zavisnost između naših značajka. To je bitno jer dosta modela strojnog učenja zahtjeva nezavisnost između značajki kako bi njihova predikcija bila stabilna. Iz dijagrama najveću korelaciju možemo uočiti između varijabli MaxHR i Age ( -0.38, - predznak označava da su suprotno korelirane odnosno da povećanje jedne uzrokuje smanjenje druge ) te ćemo zato načini scatter plot dijagram između te dvije varijable kako bismo vidjeli možemo li stvarno uočiti neki trend između te dvije značajke."
   ]
  },
  {
   "cell_type": "code",
   "execution_count": 12,
   "id": "cc2262da-fced-4cad-b22d-d92a47c339ae",
   "metadata": {},
   "outputs": [
    {
     "data": {
      "image/png": "[encoded data removed]",
      "text/plain": [
       "<Figure size 1800x864 with 10 Axes>"
      ]
     },
     "metadata": {},
     "output_type": "display_data"
    }
   ],
   "source": [
    "figure(figsize = (25, 12))\n",
    "subplots_adjust(wspace=0.35, hspace = 0.15)\n",
    "x = it.combinations([\"Age\",\"RestingBP\",\"Cholesterol\",\"MaxHR\",\"Oldpeak\"],2)\n",
    "c = 0\n",
    "for i in x:\n",
    "    subplot(2,5,c+1)\n",
    "    c+=1\n",
    "    plt.scatter(X[i[0]],X[i[1]])\n",
    "    plt.xlabel(i[0])\n",
    "    plt.ylabel(i[1])\n",
    "\n",
    "    "
   ]
  },
  {
   "cell_type": "markdown",
   "id": "156c81a6-a020-4ad2-b461-f91ba8934957",
   "metadata": {},
   "source": [
    "Iz grafova isto kao što smo i uočili iz kovarijacijske matrice možemo vidjeti da značajke su međusobno linearno nezavisne. Najveću zavisnost kao što i možemo izčitati iz kovarijacijske matrice vidimo između značajki MaxHR i Age, no ona je dovoljno mala pa ju možemo zanemariti u daljnoj analizi."
   ]
  },
  {
   "cell_type": "code",
   "execution_count": 13,
   "id": "b7900904-d3a4-4766-9e5d-08f34b27857a",
   "metadata": {},
   "outputs": [
    {
     "data": {
      "text/plain": [
       "([<matplotlib.patches.Wedge at 0x20ed96485b0>,\n",
       "  <matplotlib.patches.Wedge at 0x20ed96694f0>],\n",
       " [Text(-0.18842255867692193, 1.0837421000319412, '1'),\n",
       "  Text(0.1884226601441795, -1.0837420823905435, '0')])"
      ]
     },
     "execution_count": 13,
     "metadata": {},
     "output_type": "execute_result"
    },
    {
     "data": {
      "image/png": "[encoded data removed]",
      "text/plain": [
       "<Figure size 1080x720 with 6 Axes>"
      ]
     },
     "metadata": {},
     "output_type": "display_data"
    }
   ],
   "source": [
    "fig = plt.figure(figsize=(15, 10))\n",
    "subplot(3,3,1)\n",
    "title(\"Sex\")\n",
    "y = [x for x in X[\"Sex\"].value_counts()]\n",
    "y_labels = [x for x in X[\"Sex\"].unique()]\n",
    "plt.pie(y,labels = y_labels)\n",
    "subplot(3,3,2)\n",
    "title(\"ChestPainType\")\n",
    "y = [x for x in X[\"ChestPainType\"].value_counts()]\n",
    "y_labels = [x for x in X[\"ChestPainType\"].unique()]\n",
    "plt.pie(y,labels = y_labels)\n",
    "subplot(3,3,3)\n",
    "title(\"RestingECG\")\n",
    "y = [x for x in X[\"RestingECG\"].value_counts()]\n",
    "y_labels = [x for x in X[\"RestingECG\"].unique()]\n",
    "plt.pie(y,labels = y_labels)\n",
    "subplot(3,3,4)\n",
    "title(\"ExerciseAngina\")\n",
    "y = [x for x in X[\"ExerciseAngina\"].value_counts()]\n",
    "y_labels = [x for x in X[\"ExerciseAngina\"].unique()]\n",
    "plt.pie(y,labels = y_labels)\n",
    "subplot(3,3,5)\n",
    "title(\"ST_Slope\")\n",
    "y = [x for x in X[\"ST_Slope\"].value_counts()]\n",
    "y_labels = [x for x in X[\"ST_Slope\"].unique()]\n",
    "plt.pie(y,labels = y_labels)\n",
    "subplot(3,3,6)\n",
    "title(\"HeartDisease\")\n",
    "y = [x for x in X[\"HeartDisease\"].value_counts()]\n",
    "y_labels = [x for x in X[\"HeartDisease\"].unique()]\n",
    "plt.pie(y,labels = y_labels)"
   ]
  },
  {
   "cell_type": "markdown",
   "id": "d08dcbd0-18ea-46da-9df7-6c25e10de43b",
   "metadata": {},
   "source": [
    "Za kategorijske varijable koristimo pitni dijagram da bismo dobili osjet kako nam se one ravnaju. Cilj nam je da je svaka kategorija zastupljena u nekom broju jer mnogi algoritmi strojnog učenja imaju problem sa neravnomjerno raspoređenim kategorijama. U ovom slučaju vidimo da je raspodjela više manje uredu, osim kod ChestPaintType i ST_Slope vidimo malu neravnotežu, no ništa što bi nam stvaralo daljne probleme u analizi."
   ]
  },
  {
   "cell_type": "markdown",
   "id": "8168f3bc-f8f2-4241-874e-d2736acff79a",
   "metadata": {},
   "source": [
    "# Čišćenje podataka"
   ]
  },
  {
   "cell_type": "markdown",
   "id": "b52ce3e0-dd99-4392-9b93-a9430efba79f",
   "metadata": {},
   "source": [
    "Želimo vidjeti imaju li podatci nekih nedostajućih vrjednosti"
   ]
  },
  {
   "cell_type": "code",
   "execution_count": 14,
   "id": "7b3ac049-fe9b-4941-8747-827004b1d518",
   "metadata": {},
   "outputs": [
    {
     "data": {
      "text/plain": [
       "Age               0\n",
       "Sex               0\n",
       "ChestPainType     0\n",
       "RestingBP         0\n",
       "Cholesterol       0\n",
       "FastingBS         0\n",
       "RestingECG        0\n",
       "MaxHR             0\n",
       "ExerciseAngina    0\n",
       "Oldpeak           0\n",
       "ST_Slope          0\n",
       "HeartDisease      0\n",
       "dtype: int64"
      ]
     },
     "execution_count": 14,
     "metadata": {},
     "output_type": "execute_result"
    }
   ],
   "source": [
    "X.isna().sum()"
   ]
  },
  {
   "cell_type": "code",
   "execution_count": 15,
   "id": "c76cb66c-70c3-472d-8ae4-81fc2046b6e9",
   "metadata": {},
   "outputs": [
    {
     "name": "stdout",
     "output_type": "stream",
     "text": [
      "Potential no missing values!\n"
     ]
    }
   ],
   "source": [
    "missing_values_columns = []\n",
    "for i in X:\n",
    "    \n",
    "    for value in X[i].values:\n",
    "        \n",
    "        \n",
    "        if(value in [\"-\", \"x\", \"NULL\", 'N/A', 'BLANK', '„', '?', '???']):\n",
    "            \n",
    "            missing_values_columns.append(i)\n",
    "            \n",
    "if(not missing_values_columns):\n",
    "    \n",
    "    print(\"Potential no missing values!\")\n",
    "    \n",
    "else:\n",
    "    \n",
    "    print(f\"Missing values probably in {missing_values_column}\")"
   ]
  },
  {
   "cell_type": "markdown",
   "id": "55689cb0-4e70-4de5-a32a-f5492a02fddd",
   "metadata": {},
   "source": [
    "Možemo vidjeti da u skupu podataka nemamo nedostajućih vrjednosti"
   ]
  },
  {
   "cell_type": "markdown",
   "id": "e8b79b20-9dc9-4908-bc9c-1f95bf4c7e3f",
   "metadata": {},
   "source": [
    "Sada želiimo detektirati potencijalne stršeće vrjednosti gledajući histograme i boxplot dijagrame značajki"
   ]
  },
  {
   "cell_type": "code",
   "execution_count": 16,
   "id": "0d2d62b1-16f4-43ba-8901-1cbe99ab7f47",
   "metadata": {},
   "outputs": [
    {
     "name": "stdout",
     "output_type": "stream",
     "text": [
      "Oldpeak\n",
      "Potential number of outliers: 5\n",
      "Potential outliers: \n",
      "324   -2.6\n",
      "166    5.0\n",
      "324   -2.6\n",
      "771    5.6\n",
      "850    6.2\n",
      "Name: Oldpeak, dtype: float64\n",
      "\n",
      "RestingBP\n",
      "Potential number of outliers: 6\n",
      "Potential outliers: \n",
      "449      0\n",
      "241    208\n",
      "365    203\n",
      "399    202\n",
      "449      0\n",
      "732    206\n",
      "Name: RestingBP, dtype: int64\n",
      "\n",
      "Cholesterol\n",
      "Potential number of outliers: 6\n",
      "Potential outliers: \n",
      "30     518\n",
      "76     529\n",
      "149    603\n",
      "76     504\n",
      "149    574\n",
      "616    563\n",
      "Name: Cholesterol, dtype: int64\n"
     ]
    }
   ],
   "source": [
    "print(\"Oldpeak\")\n",
    "print(f\"Potential number of outliers: {((X.Oldpeak>4.5) | (X.Oldpeak<-2)).sum()}\")\n",
    "print(f\"Potential outliers: \\n{X.Oldpeak[(X.Oldpeak>4.5) | (X.Oldpeak<-2)]}\")\n",
    "print()\n",
    "print(\"RestingBP\")\n",
    "print(f\"Potential number of outliers: {((X.RestingBP>200) | (X.RestingBP<75)).sum()}\")\n",
    "print(f\"Potential outliers: \\n{X.RestingBP[(X.RestingBP>200) | (X.RestingBP<75)]}\")\n",
    "print()\n",
    "print(\"Cholesterol\")\n",
    "print(f\"Potential number of outliers: {((X.Cholesterol>500) | (X.Cholesterol<0)).sum()}\")\n",
    "print(f\"Potential outliers: \\n{X.Cholesterol[(X.Cholesterol>500) | (X.Cholesterol<0)]}\")"
   ]
  },
  {
   "cell_type": "markdown",
   "id": "40ff783f-9e41-4a11-9370-16a90399cae3",
   "metadata": {},
   "source": [
    "Proučavajući histograme i boxplot dijagrame uočili smo neke vrijednosti koje znatno odskaču od distribucije te smo ih odlučili ukloniti kako nam nebi semtale kod treniranja modela."
   ]
  },
  {
   "cell_type": "code",
   "execution_count": 17,
   "id": "7ef17df8-eb3b-4705-ae86-493cc02efc86",
   "metadata": {},
   "outputs": [],
   "source": [
    "#X = X.drop(X[X.RestingBP < 75].index)\n",
    "#X = X.drop(X[X.Oldpeak > 4.5].index)\n",
    "#X = X.drop(X[X.Cholesterol>500].index)\n",
    "#X = X.drop(X[X.Oldpeak<-2].index)\n",
    "#print(X)"
   ]
  },
  {
   "cell_type": "markdown",
   "id": "b888ddce-44d6-49de-a206-4cfc1d0f1d37",
   "metadata": {},
   "source": [
    "# Obrada kategoričkih varijabli i bucketing podataka"
   ]
  },
  {
   "cell_type": "markdown",
   "id": "f9b5d187-1235-4093-b316-d73f53160a72",
   "metadata": {},
   "source": [
    "Želimo pretvoriti kategoričke varijable koje su zapisane kao stringovi u numerički format jer korišteni algoritmi strojnog učenja ne mogu raditi sa stringom kao tipom podatka određene značajke.<br>\n",
    "Osim toga željeli bismo značajke koje imaju kontinuirane vrjednosti smjestiti u diskretizirane kategorije jer neki algoritmi ( npr. Decision Tree ) zahtjevaju ovakvu transformaciju podataka."
   ]
  },
  {
   "cell_type": "code",
   "execution_count": 18,
   "id": "ee0bda80-1d31-41ba-9049-6fc7a7671a46",
   "metadata": {},
   "outputs": [],
   "source": [
    "Z = X.copy()"
   ]
  },
  {
   "cell_type": "code",
   "execution_count": 19,
   "id": "6be4cfd0-82a0-4443-8f42-844bdd2423a4",
   "metadata": {},
   "outputs": [],
   "source": [
    "def gender_to_numeric(x):\n",
    "    if x=='M': return 2\n",
    "    if x=='F':   return 1\n",
    "    \n",
    "def CPT_to_numeric(x):\n",
    "    if x=='ATA': return 2\n",
    "    if x=='NAP':   return 1\n",
    "    if x==\"TA\": return 3\n",
    "    if x==\"ASY\": return 4\n",
    "    \n",
    "def RECGN_to_numeric(x):\n",
    "    if x=='Normal': return 2\n",
    "    if x=='ST':   return 1\n",
    "    if x==\"LVH\": return 3\n",
    "    \n",
    "def STS_to_numeric(x):\n",
    "    if x=='Up': return 2\n",
    "    if x=='Down':   return 1\n",
    "    if x==\"Flat\": return 3\n",
    "    \n",
    "def EA_to_numeric(x):\n",
    "    if x=='Y': return 2\n",
    "    if x=='N':   return 1\n"
   ]
  },
  {
   "cell_type": "code",
   "execution_count": 20,
   "id": "99027311-e851-45e6-92f6-bc7b1298c7e2",
   "metadata": {},
   "outputs": [
    {
     "name": "stdout",
     "output_type": "stream",
     "text": [
      "     Age Sex ChestPainType  RestingBP  Cholesterol  FastingBS RestingECG  \\\n",
      "593   64   M           ASY        130          258          1        LVH   \n",
      "900   58   M           ASY        114          318          0         ST   \n",
      "529   72   M           ASY        143          211          0     Normal   \n",
      "708   54   M           ASY        110          206          0        LVH   \n",
      "364   56   M           NAP        120            0          0     Normal   \n",
      "..   ...  ..           ...        ...          ...        ...        ...   \n",
      "913   45   M            TA        107          253          0     Normal   \n",
      "914   64   M           ASY        146          188          1     Normal   \n",
      "915   59   M           ASY        133          130          0     Normal   \n",
      "916   57   F           ATA        130          241          0        LVH   \n",
      "917   37   M           NAP        143          179          0     Normal   \n",
      "\n",
      "     MaxHR ExerciseAngina  Oldpeak ST_Slope  HeartDisease  SexN  \\\n",
      "593    130              N      0.0     Flat             1     2   \n",
      "900    140              N      4.4     Down             1     2   \n",
      "529    109              Y      1.4     Flat             1     2   \n",
      "708    108              Y      0.0     Flat             1     2   \n",
      "364     97              N      0.0     Flat             0     2   \n",
      "..     ...            ...      ...      ...           ...   ...   \n",
      "913    132              N      1.2     Flat             1     2   \n",
      "914    141              N      3.4     Flat             1     2   \n",
      "915    115              Y      1.2     Flat             1     2   \n",
      "916    174              N      0.0     Flat             1     1   \n",
      "917    173              N      0.0       Up             0     2   \n",
      "\n",
      "     ChestPainTypeN  RestingECGN  ST_SlopeN  ExerciseAnginaN  \n",
      "593               4            3          3                1  \n",
      "900               4            1          1                1  \n",
      "529               4            2          3                2  \n",
      "708               4            3          3                2  \n",
      "364               1            2          3                1  \n",
      "..              ...          ...        ...              ...  \n",
      "913               3            2          3                1  \n",
      "914               4            2          3                1  \n",
      "915               4            2          3                2  \n",
      "916               2            3          3                1  \n",
      "917               1            2          2                1  \n",
      "\n",
      "[1606 rows x 17 columns]\n",
      "     Age Sex ChestPainType  RestingBP  Cholesterol  FastingBS RestingECG  \\\n",
      "235   39   M           ATA        120          200          0     Normal   \n",
      "244   48   M           ASY        160          268          0     Normal   \n",
      "813   69   F            TA        140          239          0     Normal   \n",
      "874   43   M           ASY        150          247          0     Normal   \n",
      "223   33   M           NAP        120          298          0     Normal   \n",
      "..   ...  ..           ...        ...          ...        ...        ...   \n",
      "730   49   F           ATA        134          271          0     Normal   \n",
      "402   65   M           ASY        145            0          1         ST   \n",
      "522   50   M           ASY        144          349          0        LVH   \n",
      "668   63   F           ATA        140          195          0     Normal   \n",
      "368   57   M           ASY        140            0          0     Normal   \n",
      "\n",
      "     MaxHR ExerciseAngina  Oldpeak ST_Slope  HeartDisease  SexN  \\\n",
      "235    160              Y      1.0     Flat             0     2   \n",
      "244    103              Y      1.0     Flat             1     2   \n",
      "813    151              N      1.8       Up             0     1   \n",
      "874    171              N      1.5       Up             0     2   \n",
      "223    185              N      0.0       Up             0     2   \n",
      "..     ...            ...      ...      ...           ...   ...   \n",
      "730    162              N      0.0     Flat             0     1   \n",
      "402     67              N      0.7     Flat             1     2   \n",
      "522    120              Y      1.0       Up             1     2   \n",
      "668    179              N      0.0       Up             0     1   \n",
      "368    120              Y      2.0     Flat             1     2   \n",
      "\n",
      "     ChestPainTypeN  RestingECGN  ST_SlopeN  ExerciseAnginaN  \n",
      "235               2            2          3                2  \n",
      "244               4            2          3                2  \n",
      "813               3            2          2                1  \n",
      "874               4            2          2                1  \n",
      "223               1            2          2                1  \n",
      "..              ...          ...        ...              ...  \n",
      "730               2            2          3                1  \n",
      "402               4            1          3                1  \n",
      "522               4            3          2                2  \n",
      "668               2            2          2                1  \n",
      "368               4            2          3                2  \n",
      "\n",
      "[230 rows x 17 columns]\n"
     ]
    }
   ],
   "source": [
    "labels = [0,1,2,3]\n",
    "#Z['AgeB']=pd.cut(x=Z['Age'], bins=[30,40,50,60,70], labels = labels)\n",
    "Z['SexN'] = Z['Sex'].apply(gender_to_numeric)\n",
    "Z['ChestPainTypeN'] = Z['ChestPainType'].apply(CPT_to_numeric)\n",
    "Z['RestingECGN'] = Z['RestingECG'].apply(RECGN_to_numeric)\n",
    "Z['ST_SlopeN'] = Z['ST_Slope'].apply(STS_to_numeric)\n",
    "Z['ExerciseAnginaN'] = Z['ExerciseAngina'].apply(EA_to_numeric)\n",
    "print(Z)\n",
    "X_test['SexN'] = X_test['Sex'].apply(gender_to_numeric)\n",
    "X_test['ChestPainTypeN'] = X_test['ChestPainType'].apply(CPT_to_numeric)\n",
    "X_test['RestingECGN'] = X_test['RestingECG'].apply(RECGN_to_numeric)\n",
    "X_test['ST_SlopeN'] = X_test['ST_Slope'].apply(STS_to_numeric)\n",
    "X_test['ExerciseAnginaN'] = X_test['ExerciseAngina'].apply(EA_to_numeric)\n",
    "print(X_test)"
   ]
  },
  {
   "cell_type": "markdown",
   "id": "e0d97d3a-95d1-49c5-bc81-05f63b77857b",
   "metadata": {},
   "source": [
    "Smještanje kontinuiranih vrijednosti u kategorije, odnosno \"bucketing\""
   ]
  },
  {
   "cell_type": "code",
   "execution_count": 21,
   "id": "dfdcd8ef-9cb6-44d8-b5d0-39dbf8f46b92",
   "metadata": {},
   "outputs": [
    {
     "name": "stdout",
     "output_type": "stream",
     "text": [
      "     Age Sex ChestPainType  RestingBP  Cholesterol  FastingBS RestingECG  \\\n",
      "593   64   M           ASY        130          258          1        LVH   \n",
      "900   58   M           ASY        114          318          0         ST   \n",
      "529   72   M           ASY        143          211          0     Normal   \n",
      "708   54   M           ASY        110          206          0        LVH   \n",
      "364   56   M           NAP        120            0          0     Normal   \n",
      "..   ...  ..           ...        ...          ...        ...        ...   \n",
      "913   45   M            TA        107          253          0     Normal   \n",
      "914   64   M           ASY        146          188          1     Normal   \n",
      "915   59   M           ASY        133          130          0     Normal   \n",
      "916   57   F           ATA        130          241          0        LVH   \n",
      "917   37   M           NAP        143          179          0     Normal   \n",
      "\n",
      "     MaxHR ExerciseAngina  Oldpeak  ... SexN  ChestPainTypeN  RestingECGN  \\\n",
      "593    130              N      0.0  ...    2               4            3   \n",
      "900    140              N      4.4  ...    2               4            1   \n",
      "529    109              Y      1.4  ...    2               4            2   \n",
      "708    108              Y      0.0  ...    2               4            3   \n",
      "364     97              N      0.0  ...    2               1            2   \n",
      "..     ...            ...      ...  ...  ...             ...          ...   \n",
      "913    132              N      1.2  ...    2               3            2   \n",
      "914    141              N      3.4  ...    2               4            2   \n",
      "915    115              Y      1.2  ...    2               4            2   \n",
      "916    174              N      0.0  ...    1               2            3   \n",
      "917    173              N      0.0  ...    2               1            2   \n",
      "\n",
      "     ST_SlopeN  ExerciseAnginaN  AgeB  RestingBPB CholesterolB MaxHRB OldpeakB  \n",
      "593          3                1     4           1            2      3        0  \n",
      "900          1                1     3           0            3      4        3  \n",
      "529          3                2     4           2            1      1        2  \n",
      "708          3                2     2           0            1      0        0  \n",
      "364          3                1     2           0            0      0        0  \n",
      "..         ...              ...   ...         ...          ...    ...      ...  \n",
      "913          3                1     1           0            2      3        2  \n",
      "914          3                1     4           2            1      4        3  \n",
      "915          3                2     3           1            0      1        2  \n",
      "916          3                1     3           1            2      7        0  \n",
      "917          2                1     0           2            1      7        0  \n",
      "\n",
      "[1606 rows x 22 columns]\n",
      "     Age Sex ChestPainType  RestingBP  Cholesterol  FastingBS RestingECG  \\\n",
      "235   39   M           ATA        120          200          0     Normal   \n",
      "244   48   M           ASY        160          268          0     Normal   \n",
      "813   69   F            TA        140          239          0     Normal   \n",
      "874   43   M           ASY        150          247          0     Normal   \n",
      "223   33   M           NAP        120          298          0     Normal   \n",
      "..   ...  ..           ...        ...          ...        ...        ...   \n",
      "730   49   F           ATA        134          271          0     Normal   \n",
      "402   65   M           ASY        145            0          1         ST   \n",
      "522   50   M           ASY        144          349          0        LVH   \n",
      "668   63   F           ATA        140          195          0     Normal   \n",
      "368   57   M           ASY        140            0          0     Normal   \n",
      "\n",
      "     MaxHR ExerciseAngina  Oldpeak  ... SexN  ChestPainTypeN  RestingECGN  \\\n",
      "235    160              Y      1.0  ...    2               2            2   \n",
      "244    103              Y      1.0  ...    2               4            2   \n",
      "813    151              N      1.8  ...    1               3            2   \n",
      "874    171              N      1.5  ...    2               4            2   \n",
      "223    185              N      0.0  ...    2               1            2   \n",
      "..     ...            ...      ...  ...  ...             ...          ...   \n",
      "730    162              N      0.0  ...    1               2            2   \n",
      "402     67              N      0.7  ...    2               4            1   \n",
      "522    120              Y      1.0  ...    2               4            3   \n",
      "668    179              N      0.0  ...    1               2            2   \n",
      "368    120              Y      2.0  ...    2               4            2   \n",
      "\n",
      "     ST_SlopeN  ExerciseAnginaN  AgeB  RestingBPB CholesterolB MaxHRB OldpeakB  \n",
      "235          3                2     0           0            1      6        2  \n",
      "244          3                2     1           2            3      0        2  \n",
      "813          2                1     4           1            2      5        3  \n",
      "874          2                1     0           2            2      7        2  \n",
      "223          2                1     0           0            3      7        0  \n",
      "..         ...              ...   ...         ...          ...    ...      ...  \n",
      "730          3                1     1           1            3      6        0  \n",
      "402          3                1     4           2            0      0        2  \n",
      "522          2                2     1           2            3      2        2  \n",
      "668          2                1     4           1            1      7        0  \n",
      "368          3                2     3           1            0      2        3  \n",
      "\n",
      "[230 rows x 22 columns]\n"
     ]
    }
   ],
   "source": [
    "W = Z.copy()\n",
    "\n",
    "labels = [0,1,2,3,4]\n",
    "W['AgeB']=pd.qcut(x=W['Age'], q=5, labels = labels)\n",
    "labels = [0,1,2]\n",
    "W['RestingBPB']=pd.qcut(x=W['RestingBP'], q = 3, labels = labels)\n",
    "labels = [0,1,2,3]\n",
    "W['CholesterolB']=pd.qcut(x=W['Cholesterol'], q = 4, labels = labels)\n",
    "labels = [0,1,2,3,4,5,6,7]\n",
    "W['MaxHRB']=pd.qcut(x=W['MaxHR'], q = 8, labels = labels)\n",
    "labels = [0,1,2,3]\n",
    "W['OldpeakB']=pd.qcut(x=W['Oldpeak'],q = 4, labels = labels)\n",
    "print(W)\n",
    "labels = [0,1,2,3,4]\n",
    "X_test['AgeB']=pd.qcut(x=X_test['Age'], q=5, labels = labels)\n",
    "labels = [0,1,2]\n",
    "X_test['RestingBPB']=pd.qcut(x=X_test['RestingBP'], q = 3, labels = labels)\n",
    "labels = [0,1,2,3]\n",
    "X_test['CholesterolB']=pd.qcut(x=X_test['Cholesterol'], q = 4, labels = labels)\n",
    "labels = [0,1,2,3,4,5,6,7]\n",
    "X_test['MaxHRB']=pd.qcut(x=X_test['MaxHR'], q = 8, labels = labels)\n",
    "labels = [0,1,2,3]\n",
    "X_test['OldpeakB']=pd.qcut(x=X_test['Oldpeak'],q = 4, labels = labels)\n",
    "print(X_test)"
   ]
  },
  {
   "cell_type": "markdown",
   "id": "ce7e5dd2-efef-43cf-bb50-1ca9c36adff2",
   "metadata": {},
   "source": [
    "# Implementacija"
   ]
  },
  {
   "cell_type": "markdown",
   "id": "6bc70c00-58bb-4e63-b8b9-157f8f776f08",
   "metadata": {},
   "source": [
    "Za implementacijske algoritme koristiti ćemo: Logističku regresiju, Naivni Bayesov klasifikator, Stroj potpornih vektora, Slučajnu šumu i Stablo odluke.<br>\n",
    "Kako bismo ocjenili modele podjeliti ćemo skupove podatak na skup za učenje i skup za testiranje. Modele ćemo učiti na skupu za učenje a njihovu ocjenu raditi na odvojenom testnom skupu podataka."
   ]
  },
  {
   "cell_type": "code",
   "execution_count": 22,
   "id": "7f362492-c4ae-439f-addc-2e8591d3b12e",
   "metadata": {},
   "outputs": [],
   "source": [
    "from sklearn.metrics import accuracy_score\n",
    "from sklearn.metrics import precision_score\n",
    "from sklearn.metrics import recall_score\n",
    "from sklearn.metrics import f1_score\n",
    "from sklearn.metrics import confusion_matrix"
   ]
  },
  {
   "cell_type": "code",
   "execution_count": 23,
   "id": "65a9de63-885a-4756-9ff2-055f562e3122",
   "metadata": {},
   "outputs": [
    {
     "name": "stdout",
     "output_type": "stream",
     "text": [
      "     Age  RestingBP  Cholesterol  MaxHR  Oldpeak  SexN  ChestPainTypeN  \\\n",
      "593   64        130          258    130      0.0     2               4   \n",
      "900   58        114          318    140      4.4     2               4   \n",
      "529   72        143          211    109      1.4     2               4   \n",
      "708   54        110          206    108      0.0     2               4   \n",
      "364   56        120            0     97      0.0     2               1   \n",
      "..   ...        ...          ...    ...      ...   ...             ...   \n",
      "913   45        107          253    132      1.2     2               3   \n",
      "914   64        146          188    141      3.4     2               4   \n",
      "915   59        133          130    115      1.2     2               4   \n",
      "916   57        130          241    174      0.0     1               2   \n",
      "917   37        143          179    173      0.0     2               1   \n",
      "\n",
      "     RestingECGN  ST_SlopeN  ExerciseAnginaN  \n",
      "593            3          3                1  \n",
      "900            1          1                1  \n",
      "529            2          3                2  \n",
      "708            3          3                2  \n",
      "364            2          3                1  \n",
      "..           ...        ...              ...  \n",
      "913            2          3                1  \n",
      "914            2          3                1  \n",
      "915            2          3                2  \n",
      "916            3          3                1  \n",
      "917            2          2                1  \n",
      "\n",
      "[1606 rows x 10 columns]\n"
     ]
    }
   ],
   "source": [
    "X_train = Z.loc[:,['Age',\"RestingBP\",\"Cholesterol\",\"MaxHR\",\"Oldpeak\",\"SexN\",\"ChestPainTypeN\",\"RestingECGN\",\"ST_SlopeN\",\"ExerciseAnginaN\"]]\n",
    "X_test = X_test.loc[:,['Age',\"RestingBP\",\"Cholesterol\",\"MaxHR\",\"Oldpeak\",\"SexN\",\"ChestPainTypeN\",\"RestingECGN\",\"ST_SlopeN\",\"ExerciseAnginaN\"]]\n",
    "print(X_train)"
   ]
  },
  {
   "cell_type": "code",
   "execution_count": 24,
   "id": "d32883ea-c908-4082-9e72-98b79fff010f",
   "metadata": {},
   "outputs": [],
   "source": [
    "#Logisticka regresija\n",
    "log_reg = LogisticRegression(random_state=0,max_iter=2000).fit(X_train,y_train)\n",
    "y_pred = log_reg.predict(X_test)\n",
    "log_accuracy = accuracy_score(y_pred,y_test)\n",
    "log_precision = precision_score(y_pred,y_test)\n",
    "log_recall = recall_score(y_pred,y_test)\n",
    "log_f1 = f1_score(y_pred,y_test)\n",
    "log_confusion = confusion_matrix(y_pred,y_test)\n",
    "#print(log_reg.score(X_test,y_test))\n",
    "#print(precision_recall_fscore_support(y_pred,y_test))\n",
    "#print(confusion_matrix(y_pred,y_test))"
   ]
  },
  {
   "cell_type": "code",
   "execution_count": 25,
   "id": "0442951b-403a-465f-b44d-cf8b87e450ae",
   "metadata": {},
   "outputs": [],
   "source": [
    "#Naivni Bayesov klasifikator\n",
    "gnb = GaussianNB().fit(X_train,y_train)\n",
    "y_pred = gnb.predict(X_test)\n",
    "nb_accuracy = accuracy_score(y_pred,y_test)\n",
    "nb_precision = precision_score(y_pred,y_test)\n",
    "nb_recall = recall_score(y_pred,y_test)\n",
    "nb_f1 = f1_score(y_pred,y_test)\n",
    "nb_confusion = confusion_matrix(y_pred,y_test)\n",
    "#print(gnb.score(X_test,y_test))\n",
    "#print(precision_recall_fscore_support(y_pred,y_test))\n",
    "#print(confusion_matrix(y_pred,y_test))"
   ]
  },
  {
   "cell_type": "markdown",
   "id": "ede3756f-a6f9-4cf6-a635-a76c7f08b09e",
   "metadata": {},
   "source": [
    "Za stroj potpornih vektora bilo je potrebno skalirati podatke jer je SVM osjetljiv na razlike u skalama"
   ]
  },
  {
   "cell_type": "code",
   "execution_count": 26,
   "id": "620a9787-cc3d-4e57-932d-a8aad9fa27c9",
   "metadata": {},
   "outputs": [],
   "source": [
    "#Stroj potpornih vektora\n",
    "from sklearn.pipeline import make_pipeline\n",
    "\n",
    "SVM = make_pipeline(StandardScaler(), SVC(gamma='auto')).fit(X_train,y_train)\n",
    "y_pred = SVM.predict(X_test)\n",
    "svm_accuracy = accuracy_score(y_pred,y_test)\n",
    "svm_precision = precision_score(y_pred,y_test)\n",
    "svm_recall = recall_score(y_pred,y_test)\n",
    "svm_f1 = f1_score(y_pred,y_test)\n",
    "svm_confusion = confusion_matrix(y_pred,y_test)\n",
    "#print(SVM.score(X_test,y_test))\n",
    "#print(precision_recall_fscore_support(y_pred,y_test))\n",
    "#print(confusion_matrix(y_pred,y_test))"
   ]
  },
  {
   "cell_type": "markdown",
   "id": "0eade233-7d95-4018-b41a-6104a17daccd",
   "metadata": {},
   "source": [
    "Za slučajnu šumu i stablo odluke koristit ćemo Bucket verziju podataka jer je onda potrebna ukoliko želimo što precizniji rad algoritama."
   ]
  },
  {
   "cell_type": "code",
   "execution_count": 27,
   "id": "3a109acf-256f-42c2-8d60-bf442aff2110",
   "metadata": {},
   "outputs": [],
   "source": [
    "x = W.loc[:,['AgeB',\"RestingBPB\",\"CholesterolB\",\"MaxHRB\",\"OldpeakB\",\"SexN\",\"ChestPainTypeN\",\"RestingECGN\",\"ST_SlopeN\",\"ExerciseAnginaN\"]]\n",
    "y = X.loc[:, 'HeartDisease']\n",
    "X_train, X_test, y_train, y_test = train_test_split(x, y, test_size=0.25, random_state=0)"
   ]
  },
  {
   "cell_type": "code",
   "execution_count": 28,
   "id": "6e572176-959b-43d8-ae76-83b25d60382f",
   "metadata": {},
   "outputs": [],
   "source": [
    "#Slučajna suma\n",
    "RF = RandomForestClassifier(random_state=0).fit(X_train,y_train)\n",
    "y_pred = RF.predict(X_test)\n",
    "rf_accuracy = accuracy_score(y_pred,y_test)\n",
    "rf_precision = precision_score(y_pred,y_test)\n",
    "rf_recall = recall_score(y_pred,y_test)\n",
    "rf_f1 = f1_score(y_pred,y_test)\n",
    "rf_confusion = confusion_matrix(y_pred,y_test)\n",
    "#print(RF.score(X_test,y_test))\n",
    "#print(precision_recall_fscore_support(y_pred,y_test))\n",
    "#print(confusion_matrix(y_pred,y_test))"
   ]
  },
  {
   "cell_type": "code",
   "execution_count": 29,
   "id": "1da70e80-b0dd-4769-be29-441945a500ed",
   "metadata": {},
   "outputs": [],
   "source": [
    "#Decision tree\n",
    "\n",
    "DT = DecisionTreeClassifier(random_state=0, max_depth=15).fit(X_train,y_train)\n",
    "y_pred = DT.predict(X_test)\n",
    "DT.fit(X_test,y_test)\n",
    "dt_accuracy = accuracy_score(y_pred,y_test)\n",
    "dt_precision = precision_score(y_pred,y_test)\n",
    "dt_recall = recall_score(y_pred,y_test)\n",
    "dt_f1 = f1_score(y_pred,y_test)\n",
    "dt_confusion = confusion_matrix(y_pred,y_test)\n",
    "#print(DT.score(X_test,y_test))\n",
    "#print(precision_recall_fscore_support(y_pred,y_test))\n",
    "#print(confusion_matrix(y_pred,y_test))"
   ]
  },
  {
   "cell_type": "markdown",
   "id": "0418ec36-499b-4d21-8aaf-bc501a2b4013",
   "metadata": {},
   "source": [
    "# Prikaz rezultata"
   ]
  },
  {
   "cell_type": "markdown",
   "id": "6e7a0850-7b64-49d6-a09f-4b985b655617",
   "metadata": {},
   "source": [
    "Dobivene rezultate provedbe algoritama nad skupom podataka usporediti ćemo koristeći sljedećih pet stavki: Točnost, Preciznost, Odaziv, Fall-out i matricu konfuzije."
   ]
  },
  {
   "cell_type": "code",
   "execution_count": 30,
   "id": "2cc42c1d-c8cd-4905-ba76-b46eb4abea4b",
   "metadata": {},
   "outputs": [
    {
     "name": "stdout",
     "output_type": "stream",
     "text": [
      "Logistička regresija\n",
      "--------------------\n",
      "\n",
      "Accuracy: 0.8782608695652174\n",
      "Precision: 0.896\n",
      "Recall: 0.8818897637795275\n",
      "F1: 0.8888888888888887\n",
      "Confusion: \n",
      "[[ 90  13]\n",
      " [ 15 112]]\n",
      "\n"
     ]
    }
   ],
   "source": [
    "print(\"Logistička regresija\")\n",
    "print(\"--------------------\\n\")\n",
    "print(f\"Accuracy: {log_accuracy}\\nPrecision: {log_precision}\\nRecall: {log_recall}\\nF1: {log_f1}\\nConfusion: \\n{log_confusion}\\n\")"
   ]
  },
  {
   "cell_type": "code",
   "execution_count": 31,
   "id": "f1192685-bf6a-4637-a8cd-52e95a0b34ba",
   "metadata": {},
   "outputs": [
    {
     "name": "stdout",
     "output_type": "stream",
     "text": [
      "Naivni Bayesov klasifikator\n",
      "--------------------\n",
      "\n",
      "Accuracy: 0.8521739130434782\n",
      "Precision: 0.88\n",
      "Recall: 0.8527131782945736\n",
      "F1: 0.8661417322834645\n",
      "Confusion: \n",
      "[[ 86  15]\n",
      " [ 19 110]]\n",
      "\n"
     ]
    }
   ],
   "source": [
    "print(\"Naivni Bayesov klasifikator\")\n",
    "print(\"--------------------\\n\")\n",
    "print(f\"Accuracy: {nb_accuracy}\\nPrecision: {nb_precision}\\nRecall: {nb_recall}\\nF1: {nb_f1}\\nConfusion: \\n{nb_confusion}\\n\")"
   ]
  },
  {
   "cell_type": "code",
   "execution_count": 32,
   "id": "82a4fd3f-f605-456c-bd86-3e6eb58e607a",
   "metadata": {},
   "outputs": [
    {
     "name": "stdout",
     "output_type": "stream",
     "text": [
      "Stroj potpornih vektora\n",
      "--------------------\n",
      "\n",
      "Accuracy: 0.9347826086956522\n",
      "Precision: 0.952\n",
      "Recall: 0.9296875\n",
      "F1: 0.9407114624505929\n",
      "Confusion: \n",
      "[[ 96   6]\n",
      " [  9 119]]\n",
      "\n"
     ]
    }
   ],
   "source": [
    "print(\"Stroj potpornih vektora\")\n",
    "print(\"--------------------\\n\")\n",
    "print(f\"Accuracy: {svm_accuracy}\\nPrecision: {svm_precision}\\nRecall: {svm_recall}\\nF1: {svm_f1}\\nConfusion: \\n{svm_confusion}\\n\")"
   ]
  },
  {
   "cell_type": "code",
   "execution_count": 33,
   "id": "b7de45af-201b-463c-8203-6cba7f81923c",
   "metadata": {},
   "outputs": [
    {
     "name": "stdout",
     "output_type": "stream",
     "text": [
      "Slučajna šuma\n",
      "--------------------\n",
      "\n",
      "Accuracy: 0.917910447761194\n",
      "Precision: 0.9575471698113207\n",
      "Recall: 0.8942731277533039\n",
      "F1: 0.9248291571753986\n",
      "Confusion: \n",
      "[[166   9]\n",
      " [ 24 203]]\n",
      "\n"
     ]
    }
   ],
   "source": [
    "print(\"Slučajna šuma\")\n",
    "print(\"--------------------\\n\")\n",
    "print(f\"Accuracy: {rf_accuracy}\\nPrecision: {rf_precision}\\nRecall: {rf_recall}\\nF1: {rf_f1}\\nConfusion: \\n{rf_confusion}\\n\")"
   ]
  },
  {
   "cell_type": "code",
   "execution_count": 34,
   "id": "507af6fa-f35a-4f9e-92c2-ee3aa68cdb07",
   "metadata": {},
   "outputs": [
    {
     "name": "stdout",
     "output_type": "stream",
     "text": [
      "Stablo odluka\n",
      "--------------------\n",
      "\n",
      "Accuracy: 0.8980099502487562\n",
      "Precision: 0.9245283018867925\n",
      "Recall: 0.8868778280542986\n",
      "F1: 0.9053117782909931\n",
      "Confusion: \n",
      "[[165  16]\n",
      " [ 25 196]]\n",
      "\n"
     ]
    }
   ],
   "source": [
    "from sklearn import tree\n",
    "print(\"Stablo odluka\")\n",
    "print(\"--------------------\\n\")\n",
    "print(f\"Accuracy: {dt_accuracy}\\nPrecision: {dt_precision}\\nRecall: {dt_recall}\\nF1: {dt_f1}\\nConfusion: \\n{dt_confusion}\\n\")"
   ]
  },
  {
   "cell_type": "markdown",
   "id": "724bac1c-5212-402b-a3ec-5c16ec969aeb",
   "metadata": {},
   "source": [
    "<br>Zaseban tablični prikaz svih podataka radi usporedbe:"
   ]
  },
  {
   "cell_type": "code",
   "execution_count": 35,
   "id": "2418d956-4c50-4737-81cf-a14abfdfc9c2",
   "metadata": {},
   "outputs": [
    {
     "data": {
      "text/html": [
       "<div>\n",
       "<style scoped>\n",
       "    .dataframe tbody tr th:only-of-type {\n",
       "        vertical-align: middle;\n",
       "    }\n",
       "\n",
       "    .dataframe tbody tr th {\n",
       "        vertical-align: top;\n",
       "    }\n",
       "\n",
       "    .dataframe thead th {\n",
       "        text-align: right;\n",
       "    }\n",
       "</style>\n",
       "<table border=\"1\" class=\"dataframe\">\n",
       "  <thead>\n",
       "    <tr style=\"text-align: right;\">\n",
       "      <th></th>\n",
       "      <th>Accuracy</th>\n",
       "      <th>Precision</th>\n",
       "      <th>Recall</th>\n",
       "      <th>F1</th>\n",
       "      <th>Confusion matrix</th>\n",
       "    </tr>\n",
       "    <tr>\n",
       "      <th>Algorithm</th>\n",
       "      <th></th>\n",
       "      <th></th>\n",
       "      <th></th>\n",
       "      <th></th>\n",
       "      <th></th>\n",
       "    </tr>\n",
       "  </thead>\n",
       "  <tbody>\n",
       "    <tr>\n",
       "      <th>Logistic regression</th>\n",
       "      <td>0.88</td>\n",
       "      <td>0.90</td>\n",
       "      <td>0.88</td>\n",
       "      <td>0.89</td>\n",
       "      <td>[[90, 13], [15, 112]]</td>\n",
       "    </tr>\n",
       "    <tr>\n",
       "      <th>Naive bayes classifier</th>\n",
       "      <td>0.85</td>\n",
       "      <td>0.88</td>\n",
       "      <td>0.85</td>\n",
       "      <td>0.87</td>\n",
       "      <td>[[86, 15], [19, 110]]</td>\n",
       "    </tr>\n",
       "    <tr>\n",
       "      <th>Support vector machine</th>\n",
       "      <td>0.93</td>\n",
       "      <td>0.95</td>\n",
       "      <td>0.93</td>\n",
       "      <td>0.94</td>\n",
       "      <td>[[96, 6], [9, 119]]</td>\n",
       "    </tr>\n",
       "    <tr>\n",
       "      <th>RandomForestClassifier</th>\n",
       "      <td>0.92</td>\n",
       "      <td>0.96</td>\n",
       "      <td>0.89</td>\n",
       "      <td>0.92</td>\n",
       "      <td>[[166, 9], [24, 203]]</td>\n",
       "    </tr>\n",
       "    <tr>\n",
       "      <th>Decision tree</th>\n",
       "      <td>0.90</td>\n",
       "      <td>0.92</td>\n",
       "      <td>0.89</td>\n",
       "      <td>0.91</td>\n",
       "      <td>[[165, 16], [25, 196]]</td>\n",
       "    </tr>\n",
       "  </tbody>\n",
       "</table>\n",
       "</div>"
      ],
      "text/plain": [
       "                        Accuracy  Precision  Recall    F1  \\\n",
       "Algorithm                                                   \n",
       "Logistic regression         0.88       0.90    0.88  0.89   \n",
       "Naive bayes classifier      0.85       0.88    0.85  0.87   \n",
       "Support vector machine      0.93       0.95    0.93  0.94   \n",
       "RandomForestClassifier      0.92       0.96    0.89  0.92   \n",
       "Decision tree               0.90       0.92    0.89  0.91   \n",
       "\n",
       "                              Confusion matrix  \n",
       "Algorithm                                       \n",
       "Logistic regression      [[90, 13], [15, 112]]  \n",
       "Naive bayes classifier   [[86, 15], [19, 110]]  \n",
       "Support vector machine     [[96, 6], [9, 119]]  \n",
       "RandomForestClassifier   [[166, 9], [24, 203]]  \n",
       "Decision tree           [[165, 16], [25, 196]]  "
      ]
     },
     "metadata": {},
     "output_type": "display_data"
    }
   ],
   "source": [
    "raw_data = {\n",
    "            'Accuracy': [log_accuracy, nb_accuracy, svm_accuracy, rf_accuracy,dt_accuracy],\n",
    "            'Precision': [log_precision, nb_precision, svm_precision, rf_precision, dt_precision],\n",
    "            'Recall': [log_recall, nb_recall, svm_recall, rf_recall, dt_recall],\n",
    "            'F1': [log_f1, nb_f1, svm_f1, rf_f1, dt_f1],\n",
    "            'Confusion matrix': [log_confusion, nb_confusion, svm_confusion, rf_confusion, dt_confusion],\n",
    "            }\n",
    "\n",
    "df = pd.DataFrame(raw_data,\n",
    "                  index=pd.Index(['Logistic regression', 'Naive bayes classifier', 'Support vector machine', 'RandomForestClassifier', 'Decision tree'], name='Algorithm'))\n",
    "\n",
    "df.style.highlight_max()\n",
    "display(df.round(2))"
   ]
  },
  {
   "cell_type": "markdown",
   "id": "a0c85be3-d31a-4f0b-a0f7-75767894e34e",
   "metadata": {},
   "source": [
    "Najbolji rezultat možemo vidjeti kada smo primjenili algoritam Slučajnih šuma koji nam je dao točnost od 95% i preciznost od 96%. Vidimo da su gotovo svi algoritmi dali točnost veću od 88% na skupu za testiranje što nam je zadovoljavajuće za naš model.<br>\n",
    "S dobivenim rezultatima možemo zaključiti da bismo ove modele sa danim značajkama mogli korisiti kao pomagalo za predviđanje hoće li pacijent dobiti srčano zatajenje, a kroz praksu bismo onda odlučili odgovaraju li nam modeli našim potrebama."
   ]
  },
  {
   "cell_type": "markdown",
   "id": "9bb9839d",
   "metadata": {},
   "source": [
    "# Ansambli"
   ]
  },
  {
   "cell_type": "markdown",
   "id": "d45ffcd9-23ab-469f-bc40-6bd82659665f",
   "metadata": {},
   "source": [
    "S obzirom da niti jedan algoritam ne radi najbolje na svim problemima te različiti algoritmi ne \"grješe na isti način\" željeli bismo kombinirati različite algoritme strojnog učenja u svrhu dobivanja boljih klasifikatora.\n",
    "Do sada istrenirali pojedinačne modele za algoritme Logističke regresije, Stroja potrpornih vektora, Nasumične šume, Stabla odluke te Naivnog Bayesovog klasifikatora. Sada želimo kombinirati sve te motedoe te vidjeti možemo li dobiti bolji klasifikator."
   ]
  },
  {
   "cell_type": "code",
   "execution_count": 36,
   "id": "e36ebc86",
   "metadata": {},
   "outputs": [
    {
     "name": "stdout",
     "output_type": "stream",
     "text": [
      ">lr 0.834 (0.028)\n",
      ">svm 0.892 (0.019)\n",
      ">rf 0.946 (0.020)\n",
      ">nb 0.848 (0.029)\n",
      ">dt 0.910 (0.017)\n",
      ">ensamble 0.953 (0.019)\n"
     ]
    },
    {
     "data": {
      "image/png": "[encoded data removed]",
      "text/plain": [
       "<Figure size 1440x720 with 1 Axes>"
      ]
     },
     "metadata": {},
     "output_type": "display_data"
    }
   ],
   "source": [
    "from sklearn.model_selection import RepeatedStratifiedKFold\n",
    "from numpy import mean,std\n",
    "from matplotlib import pyplot\n",
    "from sklearn.ensemble import StackingClassifier\n",
    "\n",
    "def get_stacking():\n",
    "    # define the base models\n",
    "    level0 = list()\n",
    "    level0.append(('lr', LogisticRegression()))\n",
    "    level0.append(('svm', make_pipeline(StandardScaler(), SVC(gamma='auto'))))\n",
    "    level0.append(('bayes', GaussianNB()))\n",
    "    level0.append(('rf', RandomForestClassifier()))\n",
    "    level0.append(('dt', DecisionTreeClassifier()))\n",
    "    # define meta learner model\n",
    "    level1 = make_pipeline(make_pipeline(StandardScaler(), SVC(gamma='auto')))\n",
    "    # define the stacking ensemble\n",
    "    model = StackingClassifier(estimators=level0, final_estimator=level1, cv=5)\n",
    "    return model\n",
    "\n",
    "def get_models():\n",
    "    \n",
    "    models = {\"lr\":LogisticRegression(),\"svm\":make_pipeline(StandardScaler(), SVC(gamma='auto')),'rf':RandomForestClassifier(),\"nb\":GaussianNB(),\"dt\":DecisionTreeClassifier(random_state=0),\"ensamble\":get_stacking()}\n",
    "\n",
    "    return models\n",
    "\n",
    "def evaluate_model(model, X, y):\n",
    "    \n",
    "    cv = RepeatedStratifiedKFold(n_splits=10, n_repeats=3, random_state=1)\n",
    "    scores = cross_val_score(model, X, y, scoring='accuracy', cv=cv, n_jobs=-1, error_score='raise')\n",
    "    return scores\n",
    "\n",
    "\n",
    "x = Z.loc[:,['Age',\"RestingBP\",\"Cholesterol\",\"MaxHR\",\"Oldpeak\",\"SexN\",\"ChestPainTypeN\",\"RestingECGN\",\"ST_SlopeN\",\"ExerciseAnginaN\"]]\n",
    "y = X.loc[:, 'HeartDisease']\n",
    "models = get_models()\n",
    "\n",
    "results, names = list(), list()\n",
    "for name, model in models.items():\n",
    "    scores = evaluate_model(model, x,y)\n",
    "    results.append(scores)\n",
    "    names.append(name)\n",
    "    print('>%s %.3f (%.3f)' % (name, mean(scores), std(scores)))\n",
    "# plot model performance for comparison\n",
    "pyplot.boxplot(results, labels=names, showmeans=True)\n",
    "pyplot.show()"
   ]
  },
  {
   "cell_type": "markdown",
   "id": "eb0ddf62-cbe0-4329-8358-5ad35ee1ead2",
   "metadata": {},
   "source": [
    "Vidimo prikaz svih algoritama pojedinačno te zajedničkog ansambla navedenih algoritama kako bismo ih mogli usporediti. Vidimo da ansambl daje najveću točnost s najmanjom varijancom."
   ]
  },
  {
   "cell_type": "code",
   "execution_count": 37,
   "id": "d58df609",
   "metadata": {},
   "outputs": [
    {
     "name": "stdout",
     "output_type": "stream",
     "text": [
      "Ensamble\n",
      "--------------------\n",
      "\n",
      "Accuracy: 0.9203980099502488\n",
      "Precision: 0.9575471698113207\n",
      "Recall: 0.8982300884955752\n",
      "F1: 0.9269406392694063\n",
      "Confusion: \n",
      "[[167   9]\n",
      " [ 23 203]]\n",
      "\n"
     ]
    }
   ],
   "source": [
    "import warnings\n",
    "warnings.filterwarnings('ignore')\n",
    "\n",
    "model = get_stacking()\n",
    "\n",
    "model.fit(X_train,y_train)\n",
    "y_pred = model.predict(X_test)\n",
    "ensamble_accuracy = accuracy_score(y_pred,y_test)\n",
    "ensamble_precision = precision_score(y_pred,y_test)\n",
    "ensamble_recall = recall_score(y_pred,y_test)\n",
    "ensamble_f1 = f1_score(y_pred,y_test)\n",
    "ensamble_confusion = confusion_matrix(y_pred,y_test)\n",
    "\n",
    "print(\"Ensamble\")\n",
    "print(\"--------------------\\n\")\n",
    "print(f\"Accuracy: {ensamble_accuracy}\\nPrecision: {ensamble_precision}\\nRecall: {ensamble_recall}\\nF1: {ensamble_f1}\\nConfusion: \\n{ensamble_confusion}\\n\")"
   ]
  },
  {
   "cell_type": "code",
   "execution_count": 38,
   "id": "296fba95",
   "metadata": {},
   "outputs": [
    {
     "data": {
      "text/html": [
       "<div>\n",
       "<style scoped>\n",
       "    .dataframe tbody tr th:only-of-type {\n",
       "        vertical-align: middle;\n",
       "    }\n",
       "\n",
       "    .dataframe tbody tr th {\n",
       "        vertical-align: top;\n",
       "    }\n",
       "\n",
       "    .dataframe thead th {\n",
       "        text-align: right;\n",
       "    }\n",
       "</style>\n",
       "<table border=\"1\" class=\"dataframe\">\n",
       "  <thead>\n",
       "    <tr style=\"text-align: right;\">\n",
       "      <th></th>\n",
       "      <th>Accuracy</th>\n",
       "      <th>Precision</th>\n",
       "      <th>Recall</th>\n",
       "      <th>F1</th>\n",
       "      <th>Confusion matrix</th>\n",
       "    </tr>\n",
       "    <tr>\n",
       "      <th>Algorithm</th>\n",
       "      <th></th>\n",
       "      <th></th>\n",
       "      <th></th>\n",
       "      <th></th>\n",
       "      <th></th>\n",
       "    </tr>\n",
       "  </thead>\n",
       "  <tbody>\n",
       "    <tr>\n",
       "      <th>Logistic regression</th>\n",
       "      <td>0.88</td>\n",
       "      <td>0.90</td>\n",
       "      <td>0.88</td>\n",
       "      <td>0.89</td>\n",
       "      <td>[[90, 13], [15, 112]]</td>\n",
       "    </tr>\n",
       "    <tr>\n",
       "      <th>Naive bayes classifier</th>\n",
       "      <td>0.85</td>\n",
       "      <td>0.88</td>\n",
       "      <td>0.85</td>\n",
       "      <td>0.87</td>\n",
       "      <td>[[86, 15], [19, 110]]</td>\n",
       "    </tr>\n",
       "    <tr>\n",
       "      <th>Support vector machine</th>\n",
       "      <td>0.93</td>\n",
       "      <td>0.95</td>\n",
       "      <td>0.93</td>\n",
       "      <td>0.94</td>\n",
       "      <td>[[96, 6], [9, 119]]</td>\n",
       "    </tr>\n",
       "    <tr>\n",
       "      <th>RandomForestClassifier</th>\n",
       "      <td>0.92</td>\n",
       "      <td>0.96</td>\n",
       "      <td>0.89</td>\n",
       "      <td>0.92</td>\n",
       "      <td>[[166, 9], [24, 203]]</td>\n",
       "    </tr>\n",
       "    <tr>\n",
       "      <th>Decision tree</th>\n",
       "      <td>0.90</td>\n",
       "      <td>0.92</td>\n",
       "      <td>0.89</td>\n",
       "      <td>0.91</td>\n",
       "      <td>[[165, 16], [25, 196]]</td>\n",
       "    </tr>\n",
       "    <tr>\n",
       "      <th>Ensamble</th>\n",
       "      <td>0.92</td>\n",
       "      <td>0.96</td>\n",
       "      <td>0.90</td>\n",
       "      <td>0.93</td>\n",
       "      <td>[[167, 9], [23, 203]]</td>\n",
       "    </tr>\n",
       "  </tbody>\n",
       "</table>\n",
       "</div>"
      ],
      "text/plain": [
       "                        Accuracy  Precision  Recall    F1  \\\n",
       "Algorithm                                                   \n",
       "Logistic regression         0.88       0.90    0.88  0.89   \n",
       "Naive bayes classifier      0.85       0.88    0.85  0.87   \n",
       "Support vector machine      0.93       0.95    0.93  0.94   \n",
       "RandomForestClassifier      0.92       0.96    0.89  0.92   \n",
       "Decision tree               0.90       0.92    0.89  0.91   \n",
       "Ensamble                    0.92       0.96    0.90  0.93   \n",
       "\n",
       "                              Confusion matrix  \n",
       "Algorithm                                       \n",
       "Logistic regression      [[90, 13], [15, 112]]  \n",
       "Naive bayes classifier   [[86, 15], [19, 110]]  \n",
       "Support vector machine     [[96, 6], [9, 119]]  \n",
       "RandomForestClassifier   [[166, 9], [24, 203]]  \n",
       "Decision tree           [[165, 16], [25, 196]]  \n",
       "Ensamble                 [[167, 9], [23, 203]]  "
      ]
     },
     "metadata": {},
     "output_type": "display_data"
    }
   ],
   "source": [
    "raw_data = {\n",
    "            'Accuracy': [log_accuracy, nb_accuracy, svm_accuracy, rf_accuracy,dt_accuracy,ensamble_accuracy],\n",
    "            'Precision': [log_precision, nb_precision, svm_precision, rf_precision, dt_precision,ensamble_precision],\n",
    "            'Recall': [log_recall, nb_recall, svm_recall, rf_recall, dt_recall,ensamble_recall],\n",
    "            'F1': [log_f1, nb_f1, svm_f1, rf_f1, dt_f1,ensamble_f1],\n",
    "            'Confusion matrix': [log_confusion, nb_confusion, svm_confusion, rf_confusion, dt_confusion,ensamble_confusion],\n",
    "            }\n",
    "\n",
    "df = pd.DataFrame(raw_data,\n",
    "                  index=pd.Index(['Logistic regression', 'Naive bayes classifier', 'Support vector machine', 'RandomForestClassifier', 'Decision tree','Ensamble'], name='Algorithm'))\n",
    "\n",
    "df.style.highlight_max()\n",
    "display(df.round(2))"
   ]
  },
  {
   "cell_type": "markdown",
   "id": "588e5258",
   "metadata": {},
   "source": [
    "Vidimo da ansambl zapravo postiše dosta slične rezultate kao Slučajna šuma te Stroj potpornih vektora pa možemo zaključiti da ga za ovaj primjer nije nužno koristiti."
   ]
  }
 ],
 "metadata": {
  "kernelspec": {
   "display_name": "Python 3 (ipykernel)",
   "language": "python",
   "name": "python3"
  },
  "language_info": {
   "codemirror_mode": {
    "name": "ipython",
    "version": 3
   },
   "file_extension": ".py",
   "mimetype": "text/x-python",
   "name": "python",
   "nbconvert_exporter": "python",
   "pygments_lexer": "ipython3",
   "version": "3.8.8"
  }
 },
 "nbformat": 4,
 "nbformat_minor": 5
}
